{
  "nbformat": 4,
  "nbformat_minor": 0,
  "metadata": {
    "colab": {
      "provenance": [],
      "collapsed_sections": []
    },
    "kernelspec": {
      "name": "python3",
      "display_name": "Python 3"
    },
    "language_info": {
      "name": "python"
    }
  },
  "cells": [
    {
      "cell_type": "markdown",
      "source": [
        "**String manipulations**"
      ],
      "metadata": {
        "id": "nObO_8cJU1MU"
      }
    },
    {
      "cell_type": "code",
      "execution_count": 2,
      "metadata": {
        "id": "Xben_hW7UyfU",
        "colab": {
          "base_uri": "https://localhost:8080/"
        },
        "outputId": "da33f449-2c97-4116-dcdb-e205266c1527"
      },
      "outputs": [
        {
          "output_type": "stream",
          "name": "stdout",
          "text": [
            "TestString\n",
            "Test String\n"
          ]
        }
      ],
      "source": [
        "str1 = \"Test\"\n",
        "str2 = \"String\"\n",
        "str3 = str1 + str2\n",
        "str4 = str1 + \" \" + str2\n",
        "print(str3) \n",
        "print(str4) \n",
        "\n"
      ]
    },
    {
      "cell_type": "markdown",
      "source": [
        "**Slicing**"
      ],
      "metadata": {
        "id": "y2hNVq5tPaOi"
      }
    },
    {
      "cell_type": "code",
      "source": [
        "str5 = \"Hello World\"\n",
        "print(str5[2:7]) #prints \"llo W\""
      ],
      "metadata": {
        "colab": {
          "base_uri": "https://localhost:8080/"
        },
        "id": "YAgQGzZ-PW6Y",
        "outputId": "8e08764b-1575-4785-ddda-e322517db533"
      },
      "execution_count": 3,
      "outputs": [
        {
          "output_type": "stream",
          "name": "stdout",
          "text": [
            "llo W\n"
          ]
        }
      ]
    },
    {
      "cell_type": "markdown",
      "source": [
        "**Finding particular characters**"
      ],
      "metadata": {
        "id": "tbqZ-qpoRGQw"
      }
    },
    {
      "cell_type": "code",
      "source": [
        "str6 = \"This is a string\"\n",
        "print(str6.find(\"b\")) #prints -1 because b is not in the string\n",
        "print(str6.find(\"string\"))"
      ],
      "metadata": {
        "colab": {
          "base_uri": "https://localhost:8080/"
        },
        "id": "IzP7P8N_RIgA",
        "outputId": "c47cb1e7-6744-416f-c31e-db9757e7fbf5"
      },
      "execution_count": 5,
      "outputs": [
        {
          "output_type": "stream",
          "name": "stdout",
          "text": [
            "-1\n",
            "10\n"
          ]
        }
      ]
    }
  ]
}